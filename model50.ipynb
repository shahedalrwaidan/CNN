{
 "cells": [
  {
   "cell_type": "code",
   "execution_count": 2,
   "metadata": {
    "colab": {
     "base_uri": "https://localhost:8080/"
    },
    "id": "UXslAOesh6zW",
    "outputId": "47b983cf-8665-4d4d-fe4c-53c07cdc6e8f"
   },
   "outputs": [
    {
     "name": "stdout",
     "output_type": "stream",
     "text": [
      "Mounted at /content/gdrive\n"
     ]
    }
   ],
   "source": [
    "import os\n",
    "import sys\n",
    "os.environ[\"TF_CPP_MIN_LOG_LEVEL\"] = \"2\"\n",
    "import tensorflow as tf\n",
    "from tensorflow import keras\n",
    "from keras.models import Sequential\n",
    "import matplotlib\n",
    "import matplotlib.pyplot as plt\n",
    "from keras.models import Sequential\n",
    "from keras.layers import Dense, Dropout, Activation, Flatten,BatchNormalization\n",
    "from keras.layers import Conv2D, MaxPooling2D,Rescaling\n",
    "import numpy as np\n",
    "from keras.layers import GaussianNoise\n",
    "import tensorflow_addons as tfa\n",
    "\n",
    "from keras.preprocessing.image import ImageDataGenerator\n",
    "from tensorflow.keras import regularizers\n",
    "from tensorflow.keras.callbacks import EarlyStopping\n",
    "from tensorflow.keras import layers, models\n",
    "from tensorflow.keras.applications.vgg16 import VGG16\n",
    "from tensorflow.keras.applications.vgg16 import preprocess_input\n",
    "from google.colab import drive\n",
    "drive.mount(\"/content/gdrive\",force_remount=True)\n",
    "physical_devices = tf.config.list_physical_devices(\"GPU\")\n",
    "from keras.callbacks import EarlyStopping, ReduceLROnPlateau\n",
    "\n",
    "#tf.config.experimental.set_memory_growth(physical_devices[0], True)"
   ]
  },
  {
   "cell_type": "code",
   "execution_count": 3,
   "metadata": {
    "colab": {
     "base_uri": "https://localhost:8080/"
    },
    "id": "bi4oQylLyG_o",
    "outputId": "f2d707c8-7b6d-4d74-f873-2ab707379b3b"
   },
   "outputs": [
    {
     "name": "stdout",
     "output_type": "stream",
     "text": [
      "Your runtime has 27.3 gigabytes of available RAM\n",
      "\n",
      "You are using a high-RAM runtime!\n"
     ]
    }
   ],
   "source": [
    "from psutil import virtual_memory\n",
    "ram_gb = virtual_memory().total / 1e9\n",
    "print('Your runtime has {:.1f} gigabytes of available RAM\\n'.format(ram_gb))\n",
    "\n",
    "if ram_gb < 20:\n",
    "  print('Not using a high-RAM runtime')\n",
    "else:\n",
    "  print('You are using a high-RAM runtime!')"
   ]
  },
  {
   "cell_type": "code",
   "execution_count": 3,
   "metadata": {
    "id": "olmW3K-4yFo0"
   },
   "outputs": [],
   "source": []
  },
  {
   "cell_type": "code",
   "execution_count": 4,
   "metadata": {
    "colab": {
     "base_uri": "https://localhost:8080/"
    },
    "id": "tg5Q24y4Sf-Q",
    "outputId": "6f9a79af-da5d-4152-ec48-b69f8b70bec2"
   },
   "outputs": [
    {
     "name": "stdout",
     "output_type": "stream",
     "text": [
      "Found 3741 images belonging to 2 classes.\n",
      "Found 1865 images belonging to 2 classes.\n",
      "Found 1565 images belonging to 2 classes.\n"
     ]
    }
   ],
   "source": [
    "\n",
    "import numpy as np\n",
    "from skimage.util import random_noise \n",
    "\n",
    "datagen = ImageDataGenerator( rotation_range=20, zoom_range=0.2,width_shift_range=0.2, height_shift_range=0.2, shear_range=0.1,\n",
    " fill_mode=\"nearest\",rescale=1.0/255.0 ,dtype=\"numpy.float32\",preprocessing_function=preprocess_input)\n",
    "data = ImageDataGenerator(rescale=1.0/255.0,dtype=\"numpy.float32\",preprocessing_function=preprocess_input)\n",
    "\n",
    "ds_train = datagen.flow_from_directory(\n",
    "    '/content/gdrive/My Drive/training',\n",
    "      # categorical, binary\n",
    "    classes=['fake','real'],\n",
    "    color_mode=\"rgb\",\n",
    "    #batch_size= 2,\n",
    "    target_size=(32,32),\n",
    "    #shuffle = False, # reshape if not in this size\n",
    "    shuffle=True,\n",
    "    seed=123,\n",
    "   subset=\"training\",\n",
    ")\n",
    "#print(ds_train[0][0])\n",
    "#######train =np.array(ds_train, dtype=\"float\") / 255.0\n",
    "\n",
    "\n",
    "ds_valdiation =data.flow_from_directory(\n",
    "    '/content/gdrive/My Drive/validation',\n",
    "    classes=['fake','real'],\n",
    "    color_mode=\"rgb\",\n",
    "   # batch_size= 2,\n",
    "    target_size=(32,32), \n",
    "  \n",
    "  # shuffle=False,\n",
    "  #seed=123\n",
    ")\n",
    "\n",
    "ds_test= data.flow_from_directory(\n",
    "    '/content/gdrive/My Drive/test',\n",
    "      # categorical, binary\n",
    "    classes=['fake','real'],\n",
    "    color_mode=\"rgb\",\n",
    "   #batch_size= 2,\n",
    "    target_size=(32,32) ,#eshape if not in this size\n",
    " shuffle = False   \n",
    "\n",
    "    \n",
    ")\n",
    "\n",
    "\n"
   ]
  },
  {
   "cell_type": "code",
   "execution_count": 60,
   "metadata": {
    "colab": {
     "base_uri": "https://localhost:8080/"
    },
    "id": "dzxNbI_bJRFx",
    "outputId": "830c5abe-0e61-4d7e-a897-d55ef06dca47"
   },
   "outputs": [
    {
     "name": "stdout",
     "output_type": "stream",
     "text": [
      "Model: \"sequential_26\"\n",
      "_________________________________________________________________\n",
      " Layer (type)                Output Shape              Param #   \n",
      "=================================================================\n",
      " conv2d_52 (Conv2D)          (None, 30, 30, 16)        448       \n",
      "                                                                 \n",
      " batch_normalization_78 (Bat  (None, 30, 30, 16)       64        \n",
      " chNormalization)                                                \n",
      "                                                                 \n",
      " max_pooling2d_52 (MaxPoolin  (None, 15, 15, 16)       0         \n",
      " g2D)                                                            \n",
      "                                                                 \n",
      " dropout_78 (Dropout)        (None, 15, 15, 16)        0         \n",
      "                                                                 \n",
      " conv2d_53 (Conv2D)          (None, 13, 13, 16)        2320      \n",
      "                                                                 \n",
      " batch_normalization_79 (Bat  (None, 13, 13, 16)       64        \n",
      " chNormalization)                                                \n",
      "                                                                 \n",
      " max_pooling2d_53 (MaxPoolin  (None, 6, 6, 16)         0         \n",
      " g2D)                                                            \n",
      "                                                                 \n",
      " dropout_79 (Dropout)        (None, 6, 6, 16)          0         \n",
      "                                                                 \n",
      " group_normalization_26 (Gro  (None, 6, 6, 16)         32        \n",
      " upNormalization)                                                \n",
      "                                                                 \n",
      " flatten_26 (Flatten)        (None, 576)               0         \n",
      "                                                                 \n",
      " dense_52 (Dense)            (None, 12)                6924      \n",
      "                                                                 \n",
      " batch_normalization_80 (Bat  (None, 12)               48        \n",
      " chNormalization)                                                \n",
      "                                                                 \n",
      " dropout_80 (Dropout)        (None, 12)                0         \n",
      "                                                                 \n",
      " dense_53 (Dense)            (None, 2)                 26        \n",
      "                                                                 \n",
      "=================================================================\n",
      "Total params: 9,926\n",
      "Trainable params: 9,838\n",
      "Non-trainable params: 88\n",
      "_________________________________________________________________\n",
      "Epoch 1/50\n",
      "117/117 [==============================] - 14s 113ms/step - loss: 0.9104 - accuracy: 0.5298 - val_loss: 0.6103 - val_accuracy: 0.7056\n",
      "Epoch 2/50\n",
      "117/117 [==============================] - 13s 109ms/step - loss: 0.8399 - accuracy: 0.5859 - val_loss: 0.4930 - val_accuracy: 0.8113\n",
      "Epoch 3/50\n",
      "117/117 [==============================] - 13s 109ms/step - loss: 0.7683 - accuracy: 0.6423 - val_loss: 0.4145 - val_accuracy: 0.8660\n",
      "Epoch 4/50\n",
      "117/117 [==============================] - 13s 108ms/step - loss: 0.7166 - accuracy: 0.6758 - val_loss: 0.3853 - val_accuracy: 0.8912\n",
      "Epoch 5/50\n",
      "117/117 [==============================] - 13s 110ms/step - loss: 0.6689 - accuracy: 0.6894 - val_loss: 0.3783 - val_accuracy: 0.8960\n",
      "Epoch 6/50\n",
      "117/117 [==============================] - 13s 110ms/step - loss: 0.6271 - accuracy: 0.7204 - val_loss: 0.3819 - val_accuracy: 0.8981\n",
      "Epoch 7/50\n",
      "117/117 [==============================] - 13s 110ms/step - loss: 0.6073 - accuracy: 0.7407 - val_loss: 0.3756 - val_accuracy: 0.9029\n",
      "Epoch 8/50\n",
      "117/117 [==============================] - 13s 109ms/step - loss: 0.5879 - accuracy: 0.7543 - val_loss: 0.3944 - val_accuracy: 0.8949\n",
      "Epoch 9/50\n",
      "117/117 [==============================] - 13s 109ms/step - loss: 0.5485 - accuracy: 0.7674 - val_loss: 0.4112 - val_accuracy: 0.8981\n",
      "Epoch 10/50\n",
      "117/117 [==============================] - 12s 106ms/step - loss: 0.5193 - accuracy: 0.7821 - val_loss: 0.4100 - val_accuracy: 0.9019\n",
      "Epoch 11/50\n",
      "117/117 [==============================] - 13s 111ms/step - loss: 0.4862 - accuracy: 0.7990 - val_loss: 0.4221 - val_accuracy: 0.8976\n",
      "Epoch 12/50\n",
      "117/117 [==============================] - 13s 109ms/step - loss: 0.4800 - accuracy: 0.8019 - val_loss: 0.4035 - val_accuracy: 0.9078\n",
      "Epoch 13/50\n",
      "117/117 [==============================] - 13s 111ms/step - loss: 0.4491 - accuracy: 0.8174 - val_loss: 0.4124 - val_accuracy: 0.9051\n",
      "Epoch 14/50\n",
      "117/117 [==============================] - 13s 110ms/step - loss: 0.4275 - accuracy: 0.8372 - val_loss: 0.3763 - val_accuracy: 0.9244\n",
      "Epoch 15/50\n",
      "117/117 [==============================] - 13s 110ms/step - loss: 0.3852 - accuracy: 0.8586 - val_loss: 0.3617 - val_accuracy: 0.9249\n",
      "Epoch 16/50\n",
      "117/117 [==============================] - 13s 110ms/step - loss: 0.3718 - accuracy: 0.8634 - val_loss: 0.3620 - val_accuracy: 0.9255\n",
      "Epoch 17/50\n",
      "117/117 [==============================] - 13s 109ms/step - loss: 0.3457 - accuracy: 0.8778 - val_loss: 0.3726 - val_accuracy: 0.9255\n",
      "Epoch 18/50\n",
      "117/117 [==============================] - 13s 108ms/step - loss: 0.3214 - accuracy: 0.8880 - val_loss: 0.3834 - val_accuracy: 0.9255\n",
      "Epoch 19/50\n",
      "117/117 [==============================] - 13s 108ms/step - loss: 0.2888 - accuracy: 0.9072 - val_loss: 0.3938 - val_accuracy: 0.9255\n",
      "Epoch 20/50\n",
      "117/117 [==============================] - 13s 109ms/step - loss: 0.2941 - accuracy: 0.9046 - val_loss: 0.4053 - val_accuracy: 0.9255\n",
      "Epoch 21/50\n",
      "117/117 [==============================] - 13s 109ms/step - loss: 0.2732 - accuracy: 0.9123 - val_loss: 0.4228 - val_accuracy: 0.9255\n"
     ]
    }
   ],
   "source": [
    "\n",
    "model=Sequential()\n",
    "model.add(Conv2D(16,(3,3), activation='relu',input_shape=(32,32, 3)))\n",
    "model.add(BatchNormalization())\n",
    "model.add(MaxPooling2D(pool_size=(2, 2)))\n",
    "model.add(Dropout(0.5))\n",
    "\n",
    "model.add(Conv2D(16, (3, 3), activation='relu'))\n",
    "model.add(BatchNormalization())\n",
    "model.add(MaxPooling2D(pool_size=(2, 2)))\n",
    "model.add(Dropout(0.5))\n",
    "\n",
    "model.add(tfa.layers.GroupNormalization(groups=8, axis=3))\n",
    "\n",
    "model.add(Flatten())\n",
    "model.add(Dense(12,activation='relu'))\n",
    "model.add(BatchNormalization())\n",
    "model.add(Dropout(0.5))\n",
    "model.add(Dense(2, activation='softmax'))\n",
    "\n",
    "#opt = keras.Adam(lr=INIT_LR, decay=INIT_LR / EPOCHS)\n",
    "model.compile(loss=\"binary_crossentropy\",metrics =\"accuracy\",optimizer=keras.optimizers.Adam(learning_rate= 1e-4))\n",
    "\n",
    "model.summary()\n",
    "earlystop = EarlyStopping(patience=10)\n",
    "learning_rate_reduction = ReduceLROnPlateau(monitor='val_acc', \n",
    "                                            patience=2, \n",
    "                                            verbose=1, \n",
    "                                            factor=0.5, \n",
    "                                            min_lr=0.00001)\n",
    "es = EarlyStopping(monitor='val_accuracy', mode='max', patience=5, restore_best_weights=True)#callbacks=[es]\n",
    "\n",
    "hist=model.fit(ds_train,validation_data=ds_valdiation,epochs=50,batch_size =20,callbacks=[es])\n",
    "   #steps_per_epoch=50)"
   ]
  },
  {
   "cell_type": "code",
   "execution_count": 61,
   "metadata": {
    "colab": {
     "base_uri": "https://localhost:8080/"
    },
    "id": "Ok2QvQggJcQ4",
    "outputId": "b2d0672d-1d70-4993-aabe-a4165c3ca127"
   },
   "outputs": [
    {
     "name": "stdout",
     "output_type": "stream",
     "text": [
      "117/117 [==============================] - 9s 79ms/step - loss: 0.2017 - accuracy: 0.9161\n",
      "49/49 [==============================] - 3s 61ms/step - loss: 0.4056 - accuracy: 0.8390\n",
      "59/59 [==============================] - 4s 60ms/step - loss: 0.3620 - accuracy: 0.9255\n"
     ]
    },
    {
     "data": {
      "text/plain": [
       "[0.3619822561740875, 0.925469160079956]"
      ]
     },
     "execution_count": 61,
     "metadata": {},
     "output_type": "execute_result"
    }
   ],
   "source": [
    "model.evaluate(ds_train)\n",
    "model.evaluate(ds_test)\n",
    "model.evaluate(ds_valdiation)"
   ]
  },
  {
   "cell_type": "code",
   "execution_count": 62,
   "metadata": {
    "id": "GBk-Z4Wj9kNS"
   },
   "outputs": [],
   "source": [
    "model_json = model.to_json()\n",
    "with open(\"/content/gdrive/My Drive/cnn/model.json\", \"w\") as json_file:\n",
    "    json_file.write(model_json)\n",
    "from google.colab import files\n",
    "#files.download(model_json)\n",
    "model.save('/content/gdrive/My Drive/cnn/model.h5')\n",
    "#from IPython.display import FileLink\n",
    "#FileLink(r'modelnoise.h5')\n"
   ]
  },
  {
   "cell_type": "code",
   "execution_count": 7,
   "metadata": {
    "id": "IMzz0s7tAjBq"
   },
   "outputs": [],
   "source": []
  },
  {
   "cell_type": "code",
   "execution_count": 63,
   "metadata": {
    "colab": {
     "base_uri": "https://localhost:8080/",
     "height": 295
    },
    "id": "aSXZAxeYiTeU",
    "outputId": "2998d2c1-9fa5-43d6-edeb-2ad1c9cd4f3d"
   },
   "outputs": [
    {
     "data": {
      "image/png": "[encoded data removed]",
      "text/plain": [
       "<Figure size 432x288 with 1 Axes>"
      ]
     },
     "metadata": {
      "needs_background": "light"
     },
     "output_type": "display_data"
    }
   ],
   "source": [
    "plt.plot(hist.history[\"loss\"],label=\"training\")\n",
    "plt.plot (hist.history [\"val_loss\"],label=\"valid\")\n",
    "plt.title(\"CNN perform\")\n",
    "\n",
    "plt.xlabel(\"epoch\")\n",
    "plt.ylabel(\"loss\")\n",
    "\n",
    "plt.legend()\n",
    "plt.show()"
   ]
  },
  {
   "cell_type": "code",
   "execution_count": 64,
   "metadata": {
    "colab": {
     "base_uri": "https://localhost:8080/",
     "height": 295
    },
    "id": "E6x9agOGiX0n",
    "outputId": "ec79e227-1c6e-4c83-806b-fa6c3bcd0e9e"
   },
   "outputs": [
    {
     "data": {
      "image/png": "[encoded data removed]",
      "text/plain": [
       "<Figure size 432x288 with 1 Axes>"
      ]
     },
     "metadata": {
      "needs_background": "light"
     },
     "output_type": "display_data"
    }
   ],
   "source": [
    "plt.plot(hist.history['accuracy'],label=\"training\")\n",
    "plt.plot(hist.history['val_accuracy'],label=\"valid\")\n",
    "plt.title('CNN_In_8_Steps :  Accuracy  &  Validation Accuracy')\n",
    "plt.xlabel(\"epoch\")\n",
    "plt.ylabel(\"accuracy\")\n",
    "plt.legend()\n",
    "\n",
    "plt.show()"
   ]
  },
  {
   "cell_type": "code",
   "execution_count": 65,
   "metadata": {
    "colab": {
     "base_uri": "https://localhost:8080/",
     "height": 539
    },
    "id": "BQu1EP9HSiCi",
    "outputId": "24a6fdd9-13e3-414b-d6e7-95ba993c6b85"
   },
   "outputs": [
    {
     "name": "stdout",
     "output_type": "stream",
     "text": [
      "Confusion Matrix\n",
      "[[545 238]\n",
      " [ 14 768]]\n",
      "Confusion Matrix_accurcy :\n",
      "0.8389776357827476\n",
      "classification_Report\n",
      "              precision    recall  f1-score   support\n",
      "\n",
      "        fake       0.97      0.70      0.81       783\n",
      "        real       0.76      0.98      0.86       782\n",
      "\n",
      "    accuracy                           0.84      1565\n",
      "   macro avg       0.87      0.84      0.84      1565\n",
      "weighted avg       0.87      0.84      0.84      1565\n",
      "\n"
     ]
    },
    {
     "data": {
      "image/png": "[encoded data removed]",
      "text/plain": [
       "<Figure size 432x288 with 2 Axes>"
      ]
     },
     "metadata": {
      "needs_background": "light"
     },
     "output_type": "display_data"
    }
   ],
   "source": [
    "import sklearn\n",
    "from sklearn.metrics import confusion_matrix, ConfusionMatrixDisplay,classification_report,accuracy_score\n",
    "import numpy as np\n",
    "target_names = ['fake', 'real']\n",
    "label_names = [0,1]\n",
    "\n",
    "Y_pred =model.predict(ds_test)\n",
    "y_pred = np.argmax(Y_pred ,  axis = 1)\n",
    "\n",
    "cm = confusion_matrix(ds_test.classes, y_pred, labels = label_names)\n",
    "\n",
    "\n",
    "print('Confusion Matrix')\n",
    "print(confusion_matrix(ds_test.classes, y_pred))\n",
    "print('Confusion Matrix_accurcy :')\n",
    "\n",
    "print(accuracy_score(ds_test.classes, y_pred))\n",
    "\n",
    "print('classification_Report')\n",
    "print(classification_report(ds_test.classes, y_pred, target_names=target_names))\n",
    "#plot_confusion_matrix(ds_test,display_labels=target_names)\n",
    "\n",
    "disp = ConfusionMatrixDisplay(confusion_matrix= cm, display_labels=target_names)\n",
    "disp = disp.plot(cmap=plt.cm.Blues, values_format = 'g')\n",
    "plt.show()\n"
   ]
  },
  {
   "cell_type": "code",
   "execution_count": 10,
   "metadata": {
    "id": "hgWUa-ElryS3"
   },
   "outputs": [],
   "source": []
  }
 ],
 "metadata": {
  "accelerator": "GPU",
  "colab": {
   "collapsed_sections": [],
   "machine_shape": "hm",
   "name": "model50",
   "provenance": []
  },
  "kernelspec": {
   "display_name": "Python 3 (ipykernel)",
   "language": "python",
   "name": "python3"
  },
  "language_info": {
   "codemirror_mode": {
    "name": "ipython",
    "version": 3
   },
   "file_extension": ".py",
   "mimetype": "text/x-python",
   "name": "python",
   "nbconvert_exporter": "python",
   "pygments_lexer": "ipython3",
   "version": "3.9.7"
  }
 },
 "nbformat": 4,
 "nbformat_minor": 1
}
